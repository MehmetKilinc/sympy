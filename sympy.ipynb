{
 "cells": [
  {
   "cell_type": "code",
   "execution_count": 7,
   "id": "79c03372",
   "metadata": {},
   "outputs": [],
   "source": [
    "import sympy as sy"
   ]
  },
  {
   "cell_type": "code",
   "execution_count": 8,
   "id": "abd36386",
   "metadata": {},
   "outputs": [
    {
     "data": {
      "text/latex": [
       "$\\displaystyle 4$"
      ],
      "text/plain": [
       "4"
      ]
     },
     "execution_count": 8,
     "metadata": {},
     "output_type": "execute_result"
    }
   ],
   "source": [
    "sy.sqrt(16)"
   ]
  },
  {
   "cell_type": "code",
   "execution_count": 9,
   "id": "4533554c",
   "metadata": {},
   "outputs": [
    {
     "data": {
      "text/latex": [
       "$\\displaystyle \\int x^{x}\\, dx$"
      ],
      "text/plain": [
       "Integral(x**x, x)"
      ]
     },
     "execution_count": 9,
     "metadata": {},
     "output_type": "execute_result"
    }
   ],
   "source": [
    "x = sy.Symbol('x')\n",
    "sy.integrate(x**x,x)"
   ]
  },
  {
   "cell_type": "code",
   "execution_count": 10,
   "id": "bc7bb33e",
   "metadata": {},
   "outputs": [
    {
     "data": {
      "text/plain": [
       "541"
      ]
     },
     "execution_count": 10,
     "metadata": {},
     "output_type": "execute_result"
    }
   ],
   "source": [
    "sy.prime(100)"
   ]
  },
  {
   "cell_type": "code",
   "execution_count": 11,
   "id": "f86010bb",
   "metadata": {},
   "outputs": [
    {
     "data": {
      "text/latex": [
       "$\\displaystyle \\pi$"
      ],
      "text/plain": [
       "pi"
      ]
     },
     "execution_count": 11,
     "metadata": {},
     "output_type": "execute_result"
    }
   ],
   "source": [
    "sy.pi"
   ]
  },
  {
   "cell_type": "code",
   "execution_count": 12,
   "id": "8729478d",
   "metadata": {},
   "outputs": [
    {
     "data": {
      "text/latex": [
       "$\\displaystyle 24$"
      ],
      "text/plain": [
       "24"
      ]
     },
     "execution_count": 12,
     "metadata": {},
     "output_type": "execute_result"
    }
   ],
   "source": [
    "sy.factorial(4)"
   ]
  },
  {
   "cell_type": "code",
   "execution_count": 13,
   "id": "495a6d7a",
   "metadata": {},
   "outputs": [
    {
     "data": {
      "text/latex": [
       "$\\displaystyle \\frac{3}{4}$"
      ],
      "text/plain": [
       "3/4"
      ]
     },
     "execution_count": 13,
     "metadata": {},
     "output_type": "execute_result"
    }
   ],
   "source": [
    "sy.Rational(3,4)"
   ]
  },
  {
   "cell_type": "code",
   "execution_count": 14,
   "id": "3a1d72dd",
   "metadata": {},
   "outputs": [
    {
     "data": {
      "text/latex": [
       "$\\displaystyle 0.75$"
      ],
      "text/plain": [
       "0.750000000000000"
      ]
     },
     "execution_count": 14,
     "metadata": {},
     "output_type": "execute_result"
    }
   ],
   "source": [
    "sy.N(sy.Rational(3,4))"
   ]
  },
  {
   "cell_type": "code",
   "execution_count": 15,
   "id": "9cc8fb01",
   "metadata": {},
   "outputs": [
    {
     "data": {
      "text/latex": [
       "$\\displaystyle 0.8$"
      ],
      "text/plain": [
       "0.8"
      ]
     },
     "execution_count": 15,
     "metadata": {},
     "output_type": "execute_result"
    }
   ],
   "source": [
    "sy.N(sy.Rational(3,4),1)     #sondan sadece 1 basamak getirir."
   ]
  },
  {
   "cell_type": "code",
   "execution_count": 16,
   "id": "3b9eea3f",
   "metadata": {},
   "outputs": [
    {
     "data": {
      "text/latex": [
       "$\\displaystyle 3.141592654$"
      ],
      "text/plain": [
       "3.141592654"
      ]
     },
     "execution_count": 16,
     "metadata": {},
     "output_type": "execute_result"
    }
   ],
   "source": [
    "sy.N(sy.pi,10)           #pinin sondan 10 basamağını getirir."
   ]
  },
  {
   "cell_type": "code",
   "execution_count": 17,
   "id": "efa2603e",
   "metadata": {},
   "outputs": [],
   "source": [
    "x = sy.Symbol('x')\n",
    "y = sy.Symbol('y')"
   ]
  },
  {
   "cell_type": "code",
   "execution_count": 18,
   "id": "8ffdaa0b",
   "metadata": {},
   "outputs": [],
   "source": [
    "f = sy.sin(x)**2 + sy.cos(x)**3"
   ]
  },
  {
   "cell_type": "code",
   "execution_count": 19,
   "id": "7a36072c",
   "metadata": {},
   "outputs": [
    {
     "data": {
      "text/latex": [
       "$\\displaystyle \\sin^{2}{\\left(x \\right)} + \\cos^{3}{\\left(x \\right)}$"
      ],
      "text/plain": [
       "sin(x)**2 + cos(x)**3"
      ]
     },
     "execution_count": 19,
     "metadata": {},
     "output_type": "execute_result"
    }
   ],
   "source": [
    "f"
   ]
  },
  {
   "cell_type": "code",
   "execution_count": 20,
   "id": "4e06ac5f",
   "metadata": {},
   "outputs": [],
   "source": [
    "a = x*(x+2)"
   ]
  },
  {
   "cell_type": "code",
   "execution_count": 21,
   "id": "222fa631",
   "metadata": {},
   "outputs": [
    {
     "data": {
      "text/latex": [
       "$\\displaystyle x \\left(x + 2\\right)$"
      ],
      "text/plain": [
       "x*(x + 2)"
      ]
     },
     "execution_count": 21,
     "metadata": {},
     "output_type": "execute_result"
    }
   ],
   "source": [
    "a"
   ]
  },
  {
   "cell_type": "code",
   "execution_count": 22,
   "id": "5eb658e1",
   "metadata": {},
   "outputs": [
    {
     "data": {
      "text/latex": [
       "$\\displaystyle x^{2} + 2 x$"
      ],
      "text/plain": [
       "x**2 + 2*x"
      ]
     },
     "execution_count": 22,
     "metadata": {},
     "output_type": "execute_result"
    }
   ],
   "source": [
    "sy.expand(a)"
   ]
  },
  {
   "cell_type": "code",
   "execution_count": 23,
   "id": "668a67bc",
   "metadata": {},
   "outputs": [],
   "source": [
    "denklem = x**2+2*x-15"
   ]
  },
  {
   "cell_type": "code",
   "execution_count": 24,
   "id": "668719db",
   "metadata": {},
   "outputs": [
    {
     "data": {
      "text/latex": [
       "$\\displaystyle \\left(x - 3\\right) \\left(x + 5\\right)$"
      ],
      "text/plain": [
       "(x - 3)*(x + 5)"
      ]
     },
     "execution_count": 24,
     "metadata": {},
     "output_type": "execute_result"
    }
   ],
   "source": [
    "denklem.factor()"
   ]
  },
  {
   "cell_type": "code",
   "execution_count": 25,
   "id": "1a032d77",
   "metadata": {},
   "outputs": [],
   "source": [
    "x_v = sy.symbols(\"x0:3\")"
   ]
  },
  {
   "cell_type": "code",
   "execution_count": 26,
   "id": "71c5a72c",
   "metadata": {},
   "outputs": [
    {
     "data": {
      "text/plain": [
       "(x0, x1, x2)"
      ]
     },
     "execution_count": 26,
     "metadata": {},
     "output_type": "execute_result"
    }
   ],
   "source": [
    "x_v"
   ]
  },
  {
   "cell_type": "code",
   "execution_count": 27,
   "id": "4beacc8d",
   "metadata": {},
   "outputs": [],
   "source": [
    "denklem = x_v[0]**2 + x_v[1]*2 - x_v[2]"
   ]
  },
  {
   "cell_type": "code",
   "execution_count": 28,
   "id": "62cbf18c",
   "metadata": {},
   "outputs": [
    {
     "data": {
      "text/latex": [
       "$\\displaystyle x_{0}^{2} + 2 x_{1} - x_{2}$"
      ],
      "text/plain": [
       "x0**2 + 2*x1 - x2"
      ]
     },
     "execution_count": 28,
     "metadata": {},
     "output_type": "execute_result"
    }
   ],
   "source": [
    "denklem"
   ]
  },
  {
   "cell_type": "code",
   "execution_count": 29,
   "id": "432007e9",
   "metadata": {},
   "outputs": [
    {
     "data": {
      "text/latex": [
       "$\\displaystyle x_{0}^{2} + 2 x_{1} - x_{2}$"
      ],
      "text/plain": [
       "x0**2 + 2*x1 - x2"
      ]
     },
     "execution_count": 29,
     "metadata": {},
     "output_type": "execute_result"
    }
   ],
   "source": [
    "sy.factor(denklem)"
   ]
  },
  {
   "cell_type": "code",
   "execution_count": 30,
   "id": "ebff4d42",
   "metadata": {},
   "outputs": [],
   "source": [
    "denklem = x**(1/3)"
   ]
  },
  {
   "cell_type": "code",
   "execution_count": 31,
   "id": "d904e767",
   "metadata": {},
   "outputs": [
    {
     "data": {
      "text/latex": [
       "$\\displaystyle x^{0.333333333333333}$"
      ],
      "text/plain": [
       "x**0.333333333333333"
      ]
     },
     "execution_count": 31,
     "metadata": {},
     "output_type": "execute_result"
    }
   ],
   "source": [
    "denklem"
   ]
  },
  {
   "cell_type": "code",
   "execution_count": 32,
   "id": "599ee713",
   "metadata": {},
   "outputs": [],
   "source": [
    "denklem = x**(sy.Integer(1)/sy.Integer(3))"
   ]
  },
  {
   "cell_type": "code",
   "execution_count": 33,
   "id": "56d53a4a",
   "metadata": {},
   "outputs": [
    {
     "data": {
      "text/latex": [
       "$\\displaystyle \\sqrt[3]{x}$"
      ],
      "text/plain": [
       "x**(1/3)"
      ]
     },
     "execution_count": 33,
     "metadata": {},
     "output_type": "execute_result"
    }
   ],
   "source": [
    "denklem"
   ]
  },
  {
   "cell_type": "code",
   "execution_count": 34,
   "id": "ea828808",
   "metadata": {},
   "outputs": [
    {
     "data": {
      "text/latex": [
       "$\\displaystyle e$"
      ],
      "text/plain": [
       "E"
      ]
     },
     "execution_count": 34,
     "metadata": {},
     "output_type": "execute_result"
    }
   ],
   "source": [
    "sy.E"
   ]
  },
  {
   "cell_type": "code",
   "execution_count": 35,
   "id": "08ca8d52",
   "metadata": {},
   "outputs": [
    {
     "data": {
      "text/latex": [
       "$\\displaystyle \\infty$"
      ],
      "text/plain": [
       "oo"
      ]
     },
     "execution_count": 35,
     "metadata": {},
     "output_type": "execute_result"
    }
   ],
   "source": [
    "sy.oo"
   ]
  },
  {
   "cell_type": "code",
   "execution_count": 36,
   "id": "5f0b43c5",
   "metadata": {},
   "outputs": [
    {
     "data": {
      "text/latex": [
       "$\\displaystyle i$"
      ],
      "text/plain": [
       "I"
      ]
     },
     "execution_count": 36,
     "metadata": {},
     "output_type": "execute_result"
    }
   ],
   "source": [
    "sy.I"
   ]
  },
  {
   "cell_type": "code",
   "execution_count": 37,
   "id": "63684cab",
   "metadata": {},
   "outputs": [
    {
     "data": {
      "text/latex": [
       "$\\displaystyle \\log{\\left(x \\right)}$"
      ],
      "text/plain": [
       "log(x)"
      ]
     },
     "execution_count": 37,
     "metadata": {},
     "output_type": "execute_result"
    }
   ],
   "source": [
    "sy.log(x)"
   ]
  },
  {
   "cell_type": "code",
   "execution_count": 39,
   "id": "73a3c8dc",
   "metadata": {},
   "outputs": [],
   "source": [
    "x,y,z = sy.symbols(\"x,y,z\")"
   ]
  },
  {
   "cell_type": "code",
   "execution_count": 42,
   "id": "1228fcf3",
   "metadata": {},
   "outputs": [],
   "source": [
    "denklem = sy.Eq(x**2-5,0)"
   ]
  },
  {
   "cell_type": "code",
   "execution_count": 43,
   "id": "3cbfab56",
   "metadata": {},
   "outputs": [
    {
     "data": {
      "text/latex": [
       "$\\displaystyle x^{2} - 5 = 0$"
      ],
      "text/plain": [
       "Eq(x**2 - 5, 0)"
      ]
     },
     "execution_count": 43,
     "metadata": {},
     "output_type": "execute_result"
    }
   ],
   "source": [
    "denklem"
   ]
  },
  {
   "cell_type": "code",
   "execution_count": 45,
   "id": "fb5eab9e",
   "metadata": {},
   "outputs": [
    {
     "data": {
      "text/latex": [
       "$\\displaystyle \\left\\{- \\sqrt{5}, \\sqrt{5}\\right\\}$"
      ],
      "text/plain": [
       "{-sqrt(5), sqrt(5)}"
      ]
     },
     "execution_count": 45,
     "metadata": {},
     "output_type": "execute_result"
    }
   ],
   "source": [
    "sy.solveset(denklem,x)"
   ]
  },
  {
   "cell_type": "code",
   "execution_count": 46,
   "id": "db21ea64",
   "metadata": {},
   "outputs": [
    {
     "data": {
      "text/plain": [
       "[sqrt(5), -sqrt(5)]"
      ]
     },
     "execution_count": 46,
     "metadata": {},
     "output_type": "execute_result"
    }
   ],
   "source": [
    "list(sy.solveset(denklem,x))"
   ]
  },
  {
   "cell_type": "code",
   "execution_count": 48,
   "id": "287b8e91",
   "metadata": {},
   "outputs": [],
   "source": [
    "denklem2 = sy.Eq(sy.cos(x)-sy.sin(x),0)"
   ]
  },
  {
   "cell_type": "code",
   "execution_count": 49,
   "id": "565469b4",
   "metadata": {},
   "outputs": [
    {
     "data": {
      "text/latex": [
       "$\\displaystyle - \\sin{\\left(x \\right)} + \\cos{\\left(x \\right)} = 0$"
      ],
      "text/plain": [
       "Eq(-sin(x) + cos(x), 0)"
      ]
     },
     "execution_count": 49,
     "metadata": {},
     "output_type": "execute_result"
    }
   ],
   "source": [
    "denklem2"
   ]
  },
  {
   "cell_type": "code",
   "execution_count": 50,
   "id": "f497863f",
   "metadata": {},
   "outputs": [
    {
     "data": {
      "text/latex": [
       "$\\displaystyle \\left\\{2 n \\pi + \\frac{5 \\pi}{4}\\; \\middle|\\; n \\in \\mathbb{Z}\\right\\} \\cup \\left\\{2 n \\pi + \\frac{\\pi}{4}\\; \\middle|\\; n \\in \\mathbb{Z}\\right\\}$"
      ],
      "text/plain": [
       "Union(ImageSet(Lambda(_n, 2*_n*pi + 5*pi/4), Integers), ImageSet(Lambda(_n, 2*_n*pi + pi/4), Integers))"
      ]
     },
     "execution_count": 50,
     "metadata": {},
     "output_type": "execute_result"
    }
   ],
   "source": [
    "sy.solveset(denklem2)"
   ]
  },
  {
   "cell_type": "code",
   "execution_count": 51,
   "id": "c636935a",
   "metadata": {},
   "outputs": [],
   "source": [
    "denklem3 = sy.Eq(x**2+5,y)"
   ]
  },
  {
   "cell_type": "code",
   "execution_count": 52,
   "id": "b7213980",
   "metadata": {},
   "outputs": [
    {
     "data": {
      "text/latex": [
       "$\\displaystyle x^{2} + 5 = y$"
      ],
      "text/plain": [
       "Eq(x**2 + 5, y)"
      ]
     },
     "execution_count": 52,
     "metadata": {},
     "output_type": "execute_result"
    }
   ],
   "source": [
    "denklem3"
   ]
  },
  {
   "cell_type": "code",
   "execution_count": 54,
   "id": "3ddec6f8",
   "metadata": {},
   "outputs": [],
   "source": [
    "denklem1 = sy.Eq(3*y+z,x)"
   ]
  },
  {
   "cell_type": "code",
   "execution_count": 55,
   "id": "0671fbab",
   "metadata": {},
   "outputs": [],
   "source": [
    "denklem2 = sy.Eq(5*x-3*z,y)"
   ]
  },
  {
   "cell_type": "code",
   "execution_count": 56,
   "id": "d31a0b33",
   "metadata": {},
   "outputs": [
    {
     "data": {
      "text/latex": [
       "$\\displaystyle \\left\\{\\left( \\frac{4 z}{7}, \\  - \\frac{z}{7}, \\  z\\right)\\right\\}$"
      ],
      "text/plain": [
       "{(4*z/7, -z/7, z)}"
      ]
     },
     "execution_count": 56,
     "metadata": {},
     "output_type": "execute_result"
    }
   ],
   "source": [
    "sy.linsolve([denklem1,denklem2],x,y,z)"
   ]
  },
  {
   "cell_type": "code",
   "execution_count": 57,
   "id": "8a460d3c",
   "metadata": {},
   "outputs": [],
   "source": [
    "polinom = x**2+5*x+6"
   ]
  },
  {
   "cell_type": "code",
   "execution_count": 59,
   "id": "93ea0d98",
   "metadata": {},
   "outputs": [],
   "source": [
    "poly = polinom.factor()"
   ]
  },
  {
   "cell_type": "code",
   "execution_count": 60,
   "id": "008337ce",
   "metadata": {},
   "outputs": [
    {
     "data": {
      "text/latex": [
       "$\\displaystyle \\left(x + 2\\right) \\left(x + 3\\right)$"
      ],
      "text/plain": [
       "(x + 2)*(x + 3)"
      ]
     },
     "execution_count": 60,
     "metadata": {},
     "output_type": "execute_result"
    }
   ],
   "source": [
    "poly"
   ]
  },
  {
   "cell_type": "code",
   "execution_count": 61,
   "id": "3a6a255d",
   "metadata": {},
   "outputs": [
    {
     "data": {
      "text/latex": [
       "$\\displaystyle x^{2} + 5 x + 6$"
      ],
      "text/plain": [
       "x**2 + 5*x + 6"
      ]
     },
     "execution_count": 61,
     "metadata": {},
     "output_type": "execute_result"
    }
   ],
   "source": [
    "poly.expand()"
   ]
  },
  {
   "cell_type": "code",
   "execution_count": 62,
   "id": "b918819f",
   "metadata": {},
   "outputs": [
    {
     "data": {
      "text/latex": [
       "$\\displaystyle e^{x + y}$"
      ],
      "text/plain": [
       "exp(x + y)"
      ]
     },
     "execution_count": 62,
     "metadata": {},
     "output_type": "execute_result"
    }
   ],
   "source": [
    "sy.exp(x+y)"
   ]
  },
  {
   "cell_type": "code",
   "execution_count": 63,
   "id": "9cf62f65",
   "metadata": {},
   "outputs": [
    {
     "data": {
      "text/latex": [
       "$\\displaystyle e^{x} e^{y}$"
      ],
      "text/plain": [
       "exp(x)*exp(y)"
      ]
     },
     "execution_count": 63,
     "metadata": {},
     "output_type": "execute_result"
    }
   ],
   "source": [
    "sy.exp(x+y).expand()"
   ]
  },
  {
   "cell_type": "code",
   "execution_count": 64,
   "id": "d930a556",
   "metadata": {},
   "outputs": [],
   "source": [
    "trig = (sy.cos(x)+sy.sin(x))**2 - sy.cos(x)**2"
   ]
  },
  {
   "cell_type": "code",
   "execution_count": 65,
   "id": "de88aef9",
   "metadata": {},
   "outputs": [
    {
     "data": {
      "text/latex": [
       "$\\displaystyle \\left(\\sin{\\left(x \\right)} + \\cos{\\left(x \\right)}\\right)^{2} - \\cos^{2}{\\left(x \\right)}$"
      ],
      "text/plain": [
       "(sin(x) + cos(x))**2 - cos(x)**2"
      ]
     },
     "execution_count": 65,
     "metadata": {},
     "output_type": "execute_result"
    }
   ],
   "source": [
    "trig"
   ]
  },
  {
   "cell_type": "code",
   "execution_count": 66,
   "id": "43ec3e07",
   "metadata": {},
   "outputs": [
    {
     "data": {
      "text/latex": [
       "$\\displaystyle \\sin^{2}{\\left(x \\right)} + 2 \\sin{\\left(x \\right)} \\cos{\\left(x \\right)}$"
      ],
      "text/plain": [
       "sin(x)**2 + 2*sin(x)*cos(x)"
      ]
     },
     "execution_count": 66,
     "metadata": {},
     "output_type": "execute_result"
    }
   ],
   "source": [
    "trig.expand()"
   ]
  },
  {
   "cell_type": "code",
   "execution_count": 67,
   "id": "4640d135",
   "metadata": {},
   "outputs": [],
   "source": [
    "p = x**3 + 10*x**2 + 31 * x + 30\n",
    "q = x**2 + 12 * x + 35\n",
    "bolme = p/q"
   ]
  },
  {
   "cell_type": "code",
   "execution_count": 68,
   "id": "0045afcf",
   "metadata": {},
   "outputs": [
    {
     "data": {
      "text/latex": [
       "$\\displaystyle \\frac{x^{3} + 10 x^{2} + 31 x + 30}{x^{2} + 12 x + 35}$"
      ],
      "text/plain": [
       "(x**3 + 10*x**2 + 31*x + 30)/(x**2 + 12*x + 35)"
      ]
     },
     "execution_count": 68,
     "metadata": {},
     "output_type": "execute_result"
    }
   ],
   "source": [
    "bolme"
   ]
  },
  {
   "cell_type": "code",
   "execution_count": 69,
   "id": "04c67b18",
   "metadata": {},
   "outputs": [
    {
     "data": {
      "text/latex": [
       "$\\displaystyle \\frac{x^{2} + 5 x + 6}{x + 7}$"
      ],
      "text/plain": [
       "(x**2 + 5*x + 6)/(x + 7)"
      ]
     },
     "execution_count": 69,
     "metadata": {},
     "output_type": "execute_result"
    }
   ],
   "source": [
    "bolme.cancel()"
   ]
  },
  {
   "cell_type": "code",
   "execution_count": 70,
   "id": "48d74deb",
   "metadata": {},
   "outputs": [
    {
     "data": {
      "text/latex": [
       "$\\displaystyle \\frac{x^{2} + 5 x + 6}{x + 7}$"
      ],
      "text/plain": [
       "(x**2 + 5*x + 6)/(x + 7)"
      ]
     },
     "execution_count": 70,
     "metadata": {},
     "output_type": "execute_result"
    }
   ],
   "source": [
    "sy.cancel(bolme)"
   ]
  },
  {
   "cell_type": "code",
   "execution_count": 71,
   "id": "12604ead",
   "metadata": {},
   "outputs": [
    {
     "data": {
      "text/latex": [
       "$\\displaystyle x - 2 + \\frac{20}{x + 7}$"
      ],
      "text/plain": [
       "x - 2 + 20/(x + 7)"
      ]
     },
     "execution_count": 71,
     "metadata": {},
     "output_type": "execute_result"
    }
   ],
   "source": [
    "sy.apart(bolme)"
   ]
  },
  {
   "cell_type": "code",
   "execution_count": 72,
   "id": "1419d87d",
   "metadata": {},
   "outputs": [
    {
     "data": {
      "text/latex": [
       "$\\displaystyle \\frac{x^{2} + 5 x + 6}{x + 7}$"
      ],
      "text/plain": [
       "(x**2 + 5*x + 6)/(x + 7)"
      ]
     },
     "execution_count": 72,
     "metadata": {},
     "output_type": "execute_result"
    }
   ],
   "source": [
    "sy.simplify(bolme)"
   ]
  },
  {
   "cell_type": "code",
   "execution_count": 73,
   "id": "bfd97c4a",
   "metadata": {},
   "outputs": [
    {
     "data": {
      "text/latex": [
       "$\\displaystyle x^{3} + 10 x^{2} + 31 x + 30$"
      ],
      "text/plain": [
       "x**3 + 10*x**2 + 31*x + 30"
      ]
     },
     "execution_count": 73,
     "metadata": {},
     "output_type": "execute_result"
    }
   ],
   "source": [
    "p"
   ]
  },
  {
   "cell_type": "code",
   "execution_count": 74,
   "id": "661504d1",
   "metadata": {},
   "outputs": [
    {
     "data": {
      "text/latex": [
       "$\\displaystyle 72$"
      ],
      "text/plain": [
       "72"
      ]
     },
     "execution_count": 74,
     "metadata": {},
     "output_type": "execute_result"
    }
   ],
   "source": [
    "p.subs(x,1)"
   ]
  },
  {
   "cell_type": "code",
   "execution_count": 75,
   "id": "730b4a3a",
   "metadata": {},
   "outputs": [
    {
     "name": "stdout",
     "output_type": "stream",
     "text": [
      "türev grafiği : \n",
      "\n",
      "[<matplotlib.lines.Line2D object at 0x00000289916159F0>]\n",
      "maksimum değer : 50300\n",
      "minimum değer : 0\n"
     ]
    },
    {
     "data": {
      "image/png": "[encoded data removed]",
      "text/plain": [
       "<Figure size 432x288 with 1 Axes>"
      ]
     },
     "metadata": {
      "needs_background": "light"
     },
     "output_type": "display_data"
    }
   ],
   "source": [
    "import sympy as sy\n",
    "import numpy as nu\n",
    "import matplotlib.pylab as plt\n",
    "\n",
    "x = sy.Symbol('x')\n",
    "\n",
    "denklem = x**5 + x**3 - 100\n",
    "\n",
    "xler = nu.arange(-10,10)\n",
    "\n",
    "liste = list()\n",
    "\n",
    "turev = sy.diff(denklem)\n",
    "\n",
    "for i in xler:\n",
    "\n",
    "\tliste.append(turev.subs(x,i))\n",
    "\n",
    "print(\"türev grafiği : \\n\")\n",
    "\n",
    "print(plt.plot(xler,liste))\n",
    "\n",
    "print(\"maksimum değer : {}\\nminimum değer : {}\".format(max(liste),min(liste)))"
   ]
  },
  {
   "cell_type": "code",
   "execution_count": null,
   "id": "602af081",
   "metadata": {},
   "outputs": [],
   "source": []
  }
 ],
 "metadata": {
  "kernelspec": {
   "display_name": "Python 3 (ipykernel)",
   "language": "python",
   "name": "python3"
  },
  "language_info": {
   "codemirror_mode": {
    "name": "ipython",
    "version": 3
   },
   "file_extension": ".py",
   "mimetype": "text/x-python",
   "name": "python",
   "nbconvert_exporter": "python",
   "pygments_lexer": "ipython3",
   "version": "3.10.2"
  }
 },
 "nbformat": 4,
 "nbformat_minor": 5
}
